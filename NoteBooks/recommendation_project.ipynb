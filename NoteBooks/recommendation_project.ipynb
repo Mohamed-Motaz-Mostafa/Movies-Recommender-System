{
  "nbformat": 4,
  "nbformat_minor": 0,
  "metadata": {
    "colab": {
      "provenance": []
    },
    "kernelspec": {
      "name": "python3",
      "display_name": "Python 3"
    },
    "language_info": {
      "name": "python"
    }
  },
  "cells": [
    {
      "cell_type": "markdown",
      "source": [
        "##Import the required libraries"
      ],
      "metadata": {
        "id": "8iCgYULHnMZ2"
      }
    },
    {
      "cell_type": "code",
      "execution_count": 28,
      "metadata": {
        "id": "45nBTOSLmwMP"
      },
      "outputs": [],
      "source": [
        "import numpy as np\n",
        "import pandas as pd\n",
        "from scipy.stats import pearsonr\n",
        "import pickle\n"
      ]
    },
    {
      "cell_type": "markdown",
      "source": [
        "##Load the Dataset"
      ],
      "metadata": {
        "id": "cKBkwH2pnVFb"
      }
    },
    {
      "cell_type": "code",
      "source": [
        "ratings = pd.read_csv(\"/content/drive/MyDrive/Recommendation_Project/ml-latest-small/ratings.csv\")\n",
        "movies = pd.read_csv(\"/content/drive/MyDrive/Recommendation_Project/ml-latest-small/movies.csv\")\n"
      ],
      "metadata": {
        "id": "puRTWNYim2fL"
      },
      "execution_count": 11,
      "outputs": []
    },
    {
      "cell_type": "markdown",
      "source": [
        "##Merge Dataset\n"
      ],
      "metadata": {
        "id": "Hr7wu9SJnbdO"
      }
    },
    {
      "cell_type": "code",
      "source": [
        "movie_data = pd.merge(ratings, movies, on='movieId')"
      ],
      "metadata": {
        "id": "lyJ0udfLnINx"
      },
      "execution_count": 12,
      "outputs": []
    },
    {
      "cell_type": "markdown",
      "source": [
        "##Extract the year"
      ],
      "metadata": {
        "id": "DfleDEVqnhFM"
      }
    },
    {
      "cell_type": "code",
      "source": [
        "movies['year'] = movies['title'].str.extract(r'\\((\\d{4})\\)').astype(float)\n",
        "movies['year'].fillna(movies['year'].median(), inplace=True)\n"
      ],
      "metadata": {
        "id": "4ZxsNL0UnLnn"
      },
      "execution_count": 13,
      "outputs": []
    },
    {
      "cell_type": "markdown",
      "source": [
        "##Encode movie title"
      ],
      "metadata": {
        "id": "WGhpQBZLnu2D"
      }
    },
    {
      "cell_type": "code",
      "source": [
        "movies['title_year'] = movies['title'] + \" (\" + movies['year'].astype(int).astype(str) + \")\"\n",
        "movie_titles = movies.set_index('movieId')['title_year'].to_dict()\n"
      ],
      "metadata": {
        "id": "PMrBhmoAnuGo"
      },
      "execution_count": 14,
      "outputs": []
    },
    {
      "cell_type": "markdown",
      "source": [
        "##Encode the genres"
      ],
      "metadata": {
        "id": "ccY0EENon1Yp"
      }
    },
    {
      "cell_type": "code",
      "source": [
        "movie_genres = movies['genres'].str.get_dummies(sep='|')\n"
      ],
      "metadata": {
        "id": "RLlQYBffnySw"
      },
      "execution_count": 15,
      "outputs": []
    },
    {
      "cell_type": "markdown",
      "source": [
        "##Create Utility Matrix"
      ],
      "metadata": {
        "id": "qr7mRrUzn-gQ"
      }
    },
    {
      "cell_type": "code",
      "source": [
        "utility_matrix = movie_data.pivot_table(index='movieId', columns='userId', values='rating')\n",
        "utility_matrix.fillna(0, inplace=True)\n"
      ],
      "metadata": {
        "id": "zleyKyMrn9fS"
      },
      "execution_count": 16,
      "outputs": []
    },
    {
      "cell_type": "markdown",
      "source": [
        "##Normalize Utility Matrix"
      ],
      "metadata": {
        "id": "nDKXoMzKoFw9"
      }
    },
    {
      "cell_type": "code",
      "source": [
        "utility_matrix_normalized = utility_matrix.sub(utility_matrix.mean(axis=1), axis=0)\n"
      ],
      "metadata": {
        "id": "U2ktQzWZoEvj"
      },
      "execution_count": 17,
      "outputs": []
    },
    {
      "cell_type": "markdown",
      "source": [
        "##Combine data"
      ],
      "metadata": {
        "id": "O1evgm7CoNe9"
      }
    },
    {
      "cell_type": "code",
      "source": [
        "\n",
        "final = utility_matrix_normalized.merge(movie_genres, left_index=True, right_index=True, how='left')\n",
        "movies.set_index('movieId', inplace=True)\n",
        "\n",
        "final = final.merge(movies[['year']], left_index=True, right_index=True, how='left')\n",
        "\n",
        "final['year'] = (final['year'] - final['year'].min()) / (final['year'].max() - final['year'].min())\n"
      ],
      "metadata": {
        "id": "yuPUkw0boKgx"
      },
      "execution_count": 18,
      "outputs": []
    },
    {
      "cell_type": "markdown",
      "source": [
        "##Calculate the similarity matrix"
      ],
      "metadata": {
        "id": "xm8K4wRVobAx"
      }
    },
    {
      "cell_type": "code",
      "source": [
        "def calculate_pearson_similarity(matrix):\n",
        "    df = pd.DataFrame(matrix)\n",
        "    similarity_matrix = df.T.corr(method='pearson')\n",
        "    similarity_matrix = similarity_matrix.to_numpy()\n",
        "\n",
        "    return similarity_matrix\n"
      ],
      "metadata": {
        "id": "neJ1NVlroYKX"
      },
      "execution_count": 30,
      "outputs": []
    },
    {
      "cell_type": "code",
      "source": [
        "similarity_matrix = calculate_pearson_similarity(final.values)\n",
        "similarity_df = pd.DataFrame(similarity_matrix, index=final.index, columns=final.index)\n"
      ],
      "metadata": {
        "id": "9n8zbfslueD9"
      },
      "execution_count": 31,
      "outputs": []
    },
    {
      "cell_type": "markdown",
      "source": [
        "##Saving the similarity matrix"
      ],
      "metadata": {
        "id": "fvD4Vh-qpAFL"
      }
    },
    {
      "cell_type": "code",
      "source": [
        "with open('/content/drive/MyDrive/Recommendation_Project/similarity_matrix.pkl', 'wb') as file:\n",
        "    pickle.dump(similarity_df, file)"
      ],
      "metadata": {
        "id": "yW03QM-KogPb"
      },
      "execution_count": 37,
      "outputs": []
    },
    {
      "cell_type": "code",
      "source": [
        "with open('/content/drive/MyDrive/Recommendation_Project/movie_titles.pkl', 'wb') as file:\n",
        "    pickle.dump(movie_titles, file)"
      ],
      "metadata": {
        "id": "Lut-GEUPpj5a"
      },
      "execution_count": 38,
      "outputs": []
    },
    {
      "cell_type": "markdown",
      "source": [
        "##Get similar movies\n"
      ],
      "metadata": {
        "id": "7rekdXOQpIek"
      }
    },
    {
      "cell_type": "code",
      "source": [
        "def similarMovies(movieid, topn=10):\n",
        "    with open('similarity_matrix.pkl', 'rb') as file:\n",
        "        similarity_df = pickle.load(file)\n",
        "\n",
        "    with open('movie_titles.pkl', 'rb') as file:\n",
        "        movie_titles = pickle.load(file)\n",
        "\n",
        "\n",
        "    similar_movies = similarity_df[movieid].sort_values(ascending=False).index[1:topn+1]\n",
        "    similarities = similarity_df[movieid].sort_values(ascending=False).values[1:topn+1]\n",
        "\n",
        "    results = pd.DataFrame({\n",
        "        'movieId': similar_movies,\n",
        "        'similarity': similarities\n",
        "    })\n",
        "\n",
        "    results['title_year'] = results['movieId'].map(movie_titles)\n",
        "\n",
        "    return results[['movieId', 'title_year', 'similarity']]\n"
      ],
      "metadata": {
        "id": "e5YJbVafpEnj"
      },
      "execution_count": 34,
      "outputs": []
    },
    {
      "cell_type": "code",
      "source": [
        "df = similarMovies(1, 10)\n",
        "df\n"
      ],
      "metadata": {
        "colab": {
          "base_uri": "https://localhost:8080/",
          "height": 363
        },
        "id": "Y4t4eUIlpS3M",
        "outputId": "62c80fa7-54ea-4b93-bffe-2434093016e7"
      },
      "execution_count": 35,
      "outputs": [
        {
          "output_type": "execute_result",
          "data": {
            "text/plain": [
              "   movieId                                         title_year  similarity\n",
              "0     3114                          Toy Story 2 (1999) (1999)    0.461476\n",
              "1     1265                        Groundhog Day (1993) (1993)    0.361295\n",
              "2      780        Independence Day (a.k.a. ID4) (1996) (1996)    0.358919\n",
              "3     1073  Willy Wonka & the Chocolate Factory (1971) (1971)    0.357005\n",
              "4      648                  Mission: Impossible (1996) (1996)    0.353017\n",
              "5      788                 Nutty Professor, The (1996) (1996)    0.351191\n",
              "6     2355                        Bug's Life, A (1998) (1998)    0.346571\n",
              "7      364                       Lion King, The (1994) (1994)    0.343870\n",
              "8       34                                 Babe (1995) (1995)    0.341445\n",
              "9     4886                       Monsters, Inc. (2001) (2001)    0.330622"
            ],
            "text/html": [
              "\n",
              "  <div id=\"df-6619b47e-d924-4e86-9a3a-c6287ad4321b\" class=\"colab-df-container\">\n",
              "    <div>\n",
              "<style scoped>\n",
              "    .dataframe tbody tr th:only-of-type {\n",
              "        vertical-align: middle;\n",
              "    }\n",
              "\n",
              "    .dataframe tbody tr th {\n",
              "        vertical-align: top;\n",
              "    }\n",
              "\n",
              "    .dataframe thead th {\n",
              "        text-align: right;\n",
              "    }\n",
              "</style>\n",
              "<table border=\"1\" class=\"dataframe\">\n",
              "  <thead>\n",
              "    <tr style=\"text-align: right;\">\n",
              "      <th></th>\n",
              "      <th>movieId</th>\n",
              "      <th>title_year</th>\n",
              "      <th>similarity</th>\n",
              "    </tr>\n",
              "  </thead>\n",
              "  <tbody>\n",
              "    <tr>\n",
              "      <th>0</th>\n",
              "      <td>3114</td>\n",
              "      <td>Toy Story 2 (1999) (1999)</td>\n",
              "      <td>0.461476</td>\n",
              "    </tr>\n",
              "    <tr>\n",
              "      <th>1</th>\n",
              "      <td>1265</td>\n",
              "      <td>Groundhog Day (1993) (1993)</td>\n",
              "      <td>0.361295</td>\n",
              "    </tr>\n",
              "    <tr>\n",
              "      <th>2</th>\n",
              "      <td>780</td>\n",
              "      <td>Independence Day (a.k.a. ID4) (1996) (1996)</td>\n",
              "      <td>0.358919</td>\n",
              "    </tr>\n",
              "    <tr>\n",
              "      <th>3</th>\n",
              "      <td>1073</td>\n",
              "      <td>Willy Wonka &amp; the Chocolate Factory (1971) (1971)</td>\n",
              "      <td>0.357005</td>\n",
              "    </tr>\n",
              "    <tr>\n",
              "      <th>4</th>\n",
              "      <td>648</td>\n",
              "      <td>Mission: Impossible (1996) (1996)</td>\n",
              "      <td>0.353017</td>\n",
              "    </tr>\n",
              "    <tr>\n",
              "      <th>5</th>\n",
              "      <td>788</td>\n",
              "      <td>Nutty Professor, The (1996) (1996)</td>\n",
              "      <td>0.351191</td>\n",
              "    </tr>\n",
              "    <tr>\n",
              "      <th>6</th>\n",
              "      <td>2355</td>\n",
              "      <td>Bug's Life, A (1998) (1998)</td>\n",
              "      <td>0.346571</td>\n",
              "    </tr>\n",
              "    <tr>\n",
              "      <th>7</th>\n",
              "      <td>364</td>\n",
              "      <td>Lion King, The (1994) (1994)</td>\n",
              "      <td>0.343870</td>\n",
              "    </tr>\n",
              "    <tr>\n",
              "      <th>8</th>\n",
              "      <td>34</td>\n",
              "      <td>Babe (1995) (1995)</td>\n",
              "      <td>0.341445</td>\n",
              "    </tr>\n",
              "    <tr>\n",
              "      <th>9</th>\n",
              "      <td>4886</td>\n",
              "      <td>Monsters, Inc. (2001) (2001)</td>\n",
              "      <td>0.330622</td>\n",
              "    </tr>\n",
              "  </tbody>\n",
              "</table>\n",
              "</div>\n",
              "    <div class=\"colab-df-buttons\">\n",
              "\n",
              "  <div class=\"colab-df-container\">\n",
              "    <button class=\"colab-df-convert\" onclick=\"convertToInteractive('df-6619b47e-d924-4e86-9a3a-c6287ad4321b')\"\n",
              "            title=\"Convert this dataframe to an interactive table.\"\n",
              "            style=\"display:none;\">\n",
              "\n",
              "  <svg xmlns=\"http://www.w3.org/2000/svg\" height=\"24px\" viewBox=\"0 -960 960 960\">\n",
              "    <path d=\"M120-120v-720h720v720H120Zm60-500h600v-160H180v160Zm220 220h160v-160H400v160Zm0 220h160v-160H400v160ZM180-400h160v-160H180v160Zm440 0h160v-160H620v160ZM180-180h160v-160H180v160Zm440 0h160v-160H620v160Z\"/>\n",
              "  </svg>\n",
              "    </button>\n",
              "\n",
              "  <style>\n",
              "    .colab-df-container {\n",
              "      display:flex;\n",
              "      gap: 12px;\n",
              "    }\n",
              "\n",
              "    .colab-df-convert {\n",
              "      background-color: #E8F0FE;\n",
              "      border: none;\n",
              "      border-radius: 50%;\n",
              "      cursor: pointer;\n",
              "      display: none;\n",
              "      fill: #1967D2;\n",
              "      height: 32px;\n",
              "      padding: 0 0 0 0;\n",
              "      width: 32px;\n",
              "    }\n",
              "\n",
              "    .colab-df-convert:hover {\n",
              "      background-color: #E2EBFA;\n",
              "      box-shadow: 0px 1px 2px rgba(60, 64, 67, 0.3), 0px 1px 3px 1px rgba(60, 64, 67, 0.15);\n",
              "      fill: #174EA6;\n",
              "    }\n",
              "\n",
              "    .colab-df-buttons div {\n",
              "      margin-bottom: 4px;\n",
              "    }\n",
              "\n",
              "    [theme=dark] .colab-df-convert {\n",
              "      background-color: #3B4455;\n",
              "      fill: #D2E3FC;\n",
              "    }\n",
              "\n",
              "    [theme=dark] .colab-df-convert:hover {\n",
              "      background-color: #434B5C;\n",
              "      box-shadow: 0px 1px 3px 1px rgba(0, 0, 0, 0.15);\n",
              "      filter: drop-shadow(0px 1px 2px rgba(0, 0, 0, 0.3));\n",
              "      fill: #FFFFFF;\n",
              "    }\n",
              "  </style>\n",
              "\n",
              "    <script>\n",
              "      const buttonEl =\n",
              "        document.querySelector('#df-6619b47e-d924-4e86-9a3a-c6287ad4321b button.colab-df-convert');\n",
              "      buttonEl.style.display =\n",
              "        google.colab.kernel.accessAllowed ? 'block' : 'none';\n",
              "\n",
              "      async function convertToInteractive(key) {\n",
              "        const element = document.querySelector('#df-6619b47e-d924-4e86-9a3a-c6287ad4321b');\n",
              "        const dataTable =\n",
              "          await google.colab.kernel.invokeFunction('convertToInteractive',\n",
              "                                                    [key], {});\n",
              "        if (!dataTable) return;\n",
              "\n",
              "        const docLinkHtml = 'Like what you see? Visit the ' +\n",
              "          '<a target=\"_blank\" href=https://colab.research.google.com/notebooks/data_table.ipynb>data table notebook</a>'\n",
              "          + ' to learn more about interactive tables.';\n",
              "        element.innerHTML = '';\n",
              "        dataTable['output_type'] = 'display_data';\n",
              "        await google.colab.output.renderOutput(dataTable, element);\n",
              "        const docLink = document.createElement('div');\n",
              "        docLink.innerHTML = docLinkHtml;\n",
              "        element.appendChild(docLink);\n",
              "      }\n",
              "    </script>\n",
              "  </div>\n",
              "\n",
              "\n",
              "<div id=\"df-f0eab563-5265-4c06-b84e-c2b6a51c6f37\">\n",
              "  <button class=\"colab-df-quickchart\" onclick=\"quickchart('df-f0eab563-5265-4c06-b84e-c2b6a51c6f37')\"\n",
              "            title=\"Suggest charts\"\n",
              "            style=\"display:none;\">\n",
              "\n",
              "<svg xmlns=\"http://www.w3.org/2000/svg\" height=\"24px\"viewBox=\"0 0 24 24\"\n",
              "     width=\"24px\">\n",
              "    <g>\n",
              "        <path d=\"M19 3H5c-1.1 0-2 .9-2 2v14c0 1.1.9 2 2 2h14c1.1 0 2-.9 2-2V5c0-1.1-.9-2-2-2zM9 17H7v-7h2v7zm4 0h-2V7h2v10zm4 0h-2v-4h2v4z\"/>\n",
              "    </g>\n",
              "</svg>\n",
              "  </button>\n",
              "\n",
              "<style>\n",
              "  .colab-df-quickchart {\n",
              "      --bg-color: #E8F0FE;\n",
              "      --fill-color: #1967D2;\n",
              "      --hover-bg-color: #E2EBFA;\n",
              "      --hover-fill-color: #174EA6;\n",
              "      --disabled-fill-color: #AAA;\n",
              "      --disabled-bg-color: #DDD;\n",
              "  }\n",
              "\n",
              "  [theme=dark] .colab-df-quickchart {\n",
              "      --bg-color: #3B4455;\n",
              "      --fill-color: #D2E3FC;\n",
              "      --hover-bg-color: #434B5C;\n",
              "      --hover-fill-color: #FFFFFF;\n",
              "      --disabled-bg-color: #3B4455;\n",
              "      --disabled-fill-color: #666;\n",
              "  }\n",
              "\n",
              "  .colab-df-quickchart {\n",
              "    background-color: var(--bg-color);\n",
              "    border: none;\n",
              "    border-radius: 50%;\n",
              "    cursor: pointer;\n",
              "    display: none;\n",
              "    fill: var(--fill-color);\n",
              "    height: 32px;\n",
              "    padding: 0;\n",
              "    width: 32px;\n",
              "  }\n",
              "\n",
              "  .colab-df-quickchart:hover {\n",
              "    background-color: var(--hover-bg-color);\n",
              "    box-shadow: 0 1px 2px rgba(60, 64, 67, 0.3), 0 1px 3px 1px rgba(60, 64, 67, 0.15);\n",
              "    fill: var(--button-hover-fill-color);\n",
              "  }\n",
              "\n",
              "  .colab-df-quickchart-complete:disabled,\n",
              "  .colab-df-quickchart-complete:disabled:hover {\n",
              "    background-color: var(--disabled-bg-color);\n",
              "    fill: var(--disabled-fill-color);\n",
              "    box-shadow: none;\n",
              "  }\n",
              "\n",
              "  .colab-df-spinner {\n",
              "    border: 2px solid var(--fill-color);\n",
              "    border-color: transparent;\n",
              "    border-bottom-color: var(--fill-color);\n",
              "    animation:\n",
              "      spin 1s steps(1) infinite;\n",
              "  }\n",
              "\n",
              "  @keyframes spin {\n",
              "    0% {\n",
              "      border-color: transparent;\n",
              "      border-bottom-color: var(--fill-color);\n",
              "      border-left-color: var(--fill-color);\n",
              "    }\n",
              "    20% {\n",
              "      border-color: transparent;\n",
              "      border-left-color: var(--fill-color);\n",
              "      border-top-color: var(--fill-color);\n",
              "    }\n",
              "    30% {\n",
              "      border-color: transparent;\n",
              "      border-left-color: var(--fill-color);\n",
              "      border-top-color: var(--fill-color);\n",
              "      border-right-color: var(--fill-color);\n",
              "    }\n",
              "    40% {\n",
              "      border-color: transparent;\n",
              "      border-right-color: var(--fill-color);\n",
              "      border-top-color: var(--fill-color);\n",
              "    }\n",
              "    60% {\n",
              "      border-color: transparent;\n",
              "      border-right-color: var(--fill-color);\n",
              "    }\n",
              "    80% {\n",
              "      border-color: transparent;\n",
              "      border-right-color: var(--fill-color);\n",
              "      border-bottom-color: var(--fill-color);\n",
              "    }\n",
              "    90% {\n",
              "      border-color: transparent;\n",
              "      border-bottom-color: var(--fill-color);\n",
              "    }\n",
              "  }\n",
              "</style>\n",
              "\n",
              "  <script>\n",
              "    async function quickchart(key) {\n",
              "      const quickchartButtonEl =\n",
              "        document.querySelector('#' + key + ' button');\n",
              "      quickchartButtonEl.disabled = true;  // To prevent multiple clicks.\n",
              "      quickchartButtonEl.classList.add('colab-df-spinner');\n",
              "      try {\n",
              "        const charts = await google.colab.kernel.invokeFunction(\n",
              "            'suggestCharts', [key], {});\n",
              "      } catch (error) {\n",
              "        console.error('Error during call to suggestCharts:', error);\n",
              "      }\n",
              "      quickchartButtonEl.classList.remove('colab-df-spinner');\n",
              "      quickchartButtonEl.classList.add('colab-df-quickchart-complete');\n",
              "    }\n",
              "    (() => {\n",
              "      let quickchartButtonEl =\n",
              "        document.querySelector('#df-f0eab563-5265-4c06-b84e-c2b6a51c6f37 button');\n",
              "      quickchartButtonEl.style.display =\n",
              "        google.colab.kernel.accessAllowed ? 'block' : 'none';\n",
              "    })();\n",
              "  </script>\n",
              "</div>\n",
              "\n",
              "  <div id=\"id_6cd2ad34-f952-416e-8225-ac1b99795209\">\n",
              "    <style>\n",
              "      .colab-df-generate {\n",
              "        background-color: #E8F0FE;\n",
              "        border: none;\n",
              "        border-radius: 50%;\n",
              "        cursor: pointer;\n",
              "        display: none;\n",
              "        fill: #1967D2;\n",
              "        height: 32px;\n",
              "        padding: 0 0 0 0;\n",
              "        width: 32px;\n",
              "      }\n",
              "\n",
              "      .colab-df-generate:hover {\n",
              "        background-color: #E2EBFA;\n",
              "        box-shadow: 0px 1px 2px rgba(60, 64, 67, 0.3), 0px 1px 3px 1px rgba(60, 64, 67, 0.15);\n",
              "        fill: #174EA6;\n",
              "      }\n",
              "\n",
              "      [theme=dark] .colab-df-generate {\n",
              "        background-color: #3B4455;\n",
              "        fill: #D2E3FC;\n",
              "      }\n",
              "\n",
              "      [theme=dark] .colab-df-generate:hover {\n",
              "        background-color: #434B5C;\n",
              "        box-shadow: 0px 1px 3px 1px rgba(0, 0, 0, 0.15);\n",
              "        filter: drop-shadow(0px 1px 2px rgba(0, 0, 0, 0.3));\n",
              "        fill: #FFFFFF;\n",
              "      }\n",
              "    </style>\n",
              "    <button class=\"colab-df-generate\" onclick=\"generateWithVariable('df')\"\n",
              "            title=\"Generate code using this dataframe.\"\n",
              "            style=\"display:none;\">\n",
              "\n",
              "  <svg xmlns=\"http://www.w3.org/2000/svg\" height=\"24px\"viewBox=\"0 0 24 24\"\n",
              "       width=\"24px\">\n",
              "    <path d=\"M7,19H8.4L18.45,9,17,7.55,7,17.6ZM5,21V16.75L18.45,3.32a2,2,0,0,1,2.83,0l1.4,1.43a1.91,1.91,0,0,1,.58,1.4,1.91,1.91,0,0,1-.58,1.4L9.25,21ZM18.45,9,17,7.55Zm-12,3A5.31,5.31,0,0,0,4.9,8.1,5.31,5.31,0,0,0,1,6.5,5.31,5.31,0,0,0,4.9,4.9,5.31,5.31,0,0,0,6.5,1,5.31,5.31,0,0,0,8.1,4.9,5.31,5.31,0,0,0,12,6.5,5.46,5.46,0,0,0,6.5,12Z\"/>\n",
              "  </svg>\n",
              "    </button>\n",
              "    <script>\n",
              "      (() => {\n",
              "      const buttonEl =\n",
              "        document.querySelector('#id_6cd2ad34-f952-416e-8225-ac1b99795209 button.colab-df-generate');\n",
              "      buttonEl.style.display =\n",
              "        google.colab.kernel.accessAllowed ? 'block' : 'none';\n",
              "\n",
              "      buttonEl.onclick = () => {\n",
              "        google.colab.notebook.generateWithVariable('df');\n",
              "      }\n",
              "      })();\n",
              "    </script>\n",
              "  </div>\n",
              "\n",
              "    </div>\n",
              "  </div>\n"
            ],
            "application/vnd.google.colaboratory.intrinsic+json": {
              "type": "dataframe",
              "variable_name": "df",
              "summary": "{\n  \"name\": \"df\",\n  \"rows\": 10,\n  \"fields\": [\n    {\n      \"column\": \"movieId\",\n      \"properties\": {\n        \"dtype\": \"number\",\n        \"std\": 1498,\n        \"min\": 34,\n        \"max\": 4886,\n        \"num_unique_values\": 10,\n        \"samples\": [\n          34,\n          1265,\n          788\n        ],\n        \"semantic_type\": \"\",\n        \"description\": \"\"\n      }\n    },\n    {\n      \"column\": \"title_year\",\n      \"properties\": {\n        \"dtype\": \"string\",\n        \"num_unique_values\": 10,\n        \"samples\": [\n          \"Babe (1995) (1995)\",\n          \"Groundhog Day (1993) (1993)\",\n          \"Nutty Professor, The (1996) (1996)\"\n        ],\n        \"semantic_type\": \"\",\n        \"description\": \"\"\n      }\n    },\n    {\n      \"column\": \"similarity\",\n      \"properties\": {\n        \"dtype\": \"number\",\n        \"std\": 0.03663724828764377,\n        \"min\": 0.3306216446172369,\n        \"max\": 0.4614763983999328,\n        \"num_unique_values\": 10,\n        \"samples\": [\n          0.341445139872491,\n          0.3612947447903729,\n          0.3511905125596912\n        ],\n        \"semantic_type\": \"\",\n        \"description\": \"\"\n      }\n    }\n  ]\n}"
            }
          },
          "metadata": {},
          "execution_count": 35
        }
      ]
    },
    {
      "cell_type": "code",
      "source": [],
      "metadata": {
        "id": "D1oSS4BDpbGa"
      },
      "execution_count": null,
      "outputs": []
    }
  ]
}